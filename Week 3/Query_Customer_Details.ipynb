{
 "cells": [
  {
   "cell_type": "code",
   "execution_count": 9,
   "id": "5d7b6a40",
   "metadata": {},
   "outputs": [],
   "source": [
    "import mysql.connector as connector\n",
    "from mysql.connector.pooling import MySQLConnectionPool\n",
    "connection = connector.connect (user = \"admin\", password = \"*********\", port = 3306,\n",
    "                                host = \"********\", db = \"little_lemon_1\")\n",
    "cursor = connection.cursor()"
   ]
  },
  {
   "cell_type": "code",
   "execution_count": 10,
   "id": "6f0bb301",
   "metadata": {},
   "outputs": [],
   "source": [
    "show_tables_query = \"SHOW tables\" \n",
    "cursor.execute(show_tables_query)\n",
    "results = cursor.fetchall()\n",
    "\n"
   ]
  },
  {
   "cell_type": "code",
   "execution_count": 12,
   "id": "2276e392",
   "metadata": {
    "scrolled": false
   },
   "outputs": [
    {
     "name": "stdout",
     "output_type": "stream",
     "text": [
      "('bookings',)\n",
      "('customerorders',)\n",
      "('customers',)\n",
      "('delivery',)\n",
      "('menu',)\n",
      "('menuitems',)\n",
      "('orders',)\n",
      "('orderview',)\n",
      "('staff',)\n"
     ]
    }
   ],
   "source": [
    "for table in results:\n",
    "    print (table)"
   ]
  },
  {
   "cell_type": "code",
   "execution_count": 13,
   "id": "e2a934f2",
   "metadata": {},
   "outputs": [],
   "source": [
    "customer_details=\"\"\"SELECT customers.CustomerName, customers.CustomerContact, orders.BillAmount\n",
    "from customers join orders on customers.CustomerID = orders.CustomerID where BillAmount > 30;\"\"\"\n"
   ]
  },
  {
   "cell_type": "code",
   "execution_count": 14,
   "id": "b1dcca2e",
   "metadata": {},
   "outputs": [],
   "source": [
    "cursor.execute(customer_details)\n",
    "results = cursor.fetchall()"
   ]
  },
  {
   "cell_type": "code",
   "execution_count": null,
   "id": "c6bf1848",
   "metadata": {},
   "outputs": [],
   "source": []
  }
 ],
 "metadata": {
  "kernelspec": {
   "display_name": "Python 3 (ipykernel)",
   "language": "python",
   "name": "python3"
  },
  "language_info": {
   "codemirror_mode": {
    "name": "ipython",
    "version": 3
   },
   "file_extension": ".py",
   "mimetype": "text/x-python",
   "name": "python",
   "nbconvert_exporter": "python",
   "pygments_lexer": "ipython3",
   "version": "3.10.9"
  }
 },
 "nbformat": 4,
 "nbformat_minor": 5
}
